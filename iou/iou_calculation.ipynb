{
 "cells": [
  {
   "cell_type": "markdown",
   "metadata": {},
   "source": [
    "##  Visualizing original and predicted images\n",
    "\n",
    "# Original image\n",
    "<img src='original.jpg' height=480 width=720 />\n",
    "\n",
    "# Predicted image\n",
    "<img src='predicted.jpg' height=480 width=720 />"
   ]
  },
  {
   "cell_type": "code",
   "execution_count": 69,
   "metadata": {},
   "outputs": [
    {
     "data": {
      "text/plain": [
       "[0.0, 0.646973, 0.324026, 0.282227, 0.45064]"
      ]
     },
     "execution_count": 69,
     "metadata": {},
     "output_type": "execute_result"
    }
   ],
   "source": [
    "# Getting data from original txt files\n",
    "with open('orig.txt') as f:\n",
    "    lines = f.readlines()\n",
    "\n",
    "data = []\n",
    "orig_box = []\n",
    "for line in lines:\n",
    "    data.append(line)\n",
    "\n",
    "strings = data[0].split(' ')\n",
    "endstring = ''\n",
    "for chars in range(len(strings[4]) - 2):\n",
    "    endstring += strings[4][chars]\n",
    "\n",
    "strings[4] = endstring\n",
    "\n",
    "## Type casting of data to integers\n",
    "for i in strings:\n",
    "    orig_box.append(float(i))\n",
    "\n",
    "orig_box"
   ]
  },
  {
   "cell_type": "code",
   "execution_count": 70,
   "metadata": {},
   "outputs": [
    {
     "data": {
      "text/plain": [
       "[0.0, 0.5058595, 0.09870599999999999, 0.282227, 0.45064]"
      ]
     },
     "execution_count": 70,
     "metadata": {},
     "output_type": "execute_result"
    }
   ],
   "source": [
    "orig_box[1] = orig_box[1] - (orig_box[3]/2)\n",
    "orig_box[2] = orig_box[2] - (orig_box[4]/2)\n",
    "\n",
    "orig_box"
   ]
  },
  {
   "cell_type": "code",
   "execution_count": 39,
   "metadata": {},
   "outputs": [
    {
     "data": {
      "text/plain": [
       "[0.0, 0.654296875, 0.34415584415584416, 0.3046875, 0.4909090909090909]"
      ]
     },
     "execution_count": 39,
     "metadata": {},
     "output_type": "execute_result"
    }
   ],
   "source": [
    "# Getting data from predicted txt files\n",
    "with open('pred.txt') as f:\n",
    "    lines = f.readlines()\n",
    "\n",
    "pred_box = []\n",
    "vals = []\n",
    "\n",
    "for i in lines:\n",
    "    vals = i.split(' ')\n",
    "    for val in vals:\n",
    "        pred_box.append(float(val))\n",
    "    \n",
    "pred_box"
   ]
  },
  {
   "cell_type": "code",
   "execution_count": 71,
   "metadata": {},
   "outputs": [
    {
     "data": {
      "text/plain": [
       "[0.0, 0.501953125, 0.0987012987012987, 0.3046875, 0.4909090909090909]"
      ]
     },
     "execution_count": 71,
     "metadata": {},
     "output_type": "execute_result"
    }
   ],
   "source": [
    "pred_box[1] = pred_box[1] - (pred_box[3]/2)\n",
    "pred_box[2] = pred_box[2] - (pred_box[4]/2)\n",
    "\n",
    "pred_box"
   ]
  },
  {
   "cell_type": "code",
   "execution_count": null,
   "metadata": {},
   "outputs": [],
   "source": [
    "# From these text files, we are getting x and y co-ordinates of Bounding boxes and width and height as well, which are normalized ones.\n",
    "# list [x, y, width, height]\n",
    "\n",
    "# For calculating area of these B.boxes, we need width and heights and then we can calculate IOU score."
   ]
  },
  {
   "cell_type": "code",
   "execution_count": 76,
   "metadata": {},
   "outputs": [
    {
     "name": "stdout",
     "output_type": "stream",
     "text": [
      "0.14957386363636363 0.0\n"
     ]
    }
   ],
   "source": [
    "# # Calculating IOU\n",
    "def get_iou(box_1, box_2):\n",
    "\n",
    "    xA = max(orig_box[1], pred_box[1])\n",
    "    yA = max(orig_box[2], pred_box[2])\n",
    "    xB = min(orig_box[3], pred_box[3])\n",
    "    yB = min(orig_box[4], pred_box[4])\n",
    "\n",
    "    # Calculating areas for Box_1 and Box_2\n",
    "    box_1_area = orig_box[3] * orig_box[4]\n",
    "    box_2_area = pred_box[3] * pred_box[4]\n",
    "\n",
    "    # compute the area of intersection rectangle\n",
    "    interArea = abs(max((xB - xA, 0)) * max((yB - yA), 0))\n",
    "    \n",
    "    # compute the intersection over union by taking the intersection\n",
    "    # area and dividing it by the sum of prediction + ground-truth\n",
    "    # areas - the interesection area\n",
    "    iou = interArea / box_1_area + box_2_area - interArea\n",
    "\n",
    "    # return the intersection over union value\n",
    "    return iou, interArea\n",
    "\n",
    "iou, interArea = get_iou(orig_box, pred_box)\n",
    "print(iou, interArea)"
   ]
  },
  {
   "cell_type": "code",
   "execution_count": 77,
   "metadata": {},
   "outputs": [],
   "source": [
    "def iou(boxA, boxB):\n",
    "    # determine the (x, y)-coordinates of the intersection rectangle\n",
    "    xA = max(boxA[0], boxB[0])\n",
    "    yA = max(boxA[1], boxB[1])\n",
    "    xB = min(boxA[2], boxB[2])\n",
    "    yB = min(boxA[3], boxB[3])\n",
    "\n",
    "    # compute the area of intersection rectangle\n",
    "    interArea = abs(max((xB - xA, 0)) * max((yB - yA), 0))\n",
    "    #if interArea == 0:\n",
    "     #   return 0\n",
    "    # compute the area of both the prediction and ground-truth\n",
    "    # rectangles\n",
    "    boxAArea = abs((boxA[2] - boxA[0]) * (boxA[3] - boxA[1]))\n",
    "    boxBArea = abs((boxB[2] - boxB[0]) * (boxB[3] - boxB[1]))\n",
    "\n",
    "    # compute the intersection over union by taking the intersection\n",
    "    # area and dividing it by the sum of prediction + ground-truth\n",
    "    # areas - the interesection area\n",
    "    iou = interArea / float(boxAArea + boxBArea - interArea)\n",
    "\n",
    "    # return the intersection over union value\n",
    "    return iou"
   ]
  },
  {
   "cell_type": "code",
   "execution_count": 78,
   "metadata": {},
   "outputs": [
    {
     "data": {
      "text/plain": [
       "0.0"
      ]
     },
     "execution_count": 78,
     "metadata": {},
     "output_type": "execute_result"
    }
   ],
   "source": [
    "iou(orig_box, pred_box)"
   ]
  },
  {
   "cell_type": "code",
   "execution_count": null,
   "metadata": {},
   "outputs": [],
   "source": []
  }
 ],
 "metadata": {
  "interpreter": {
   "hash": "b3ba2566441a7c06988d0923437866b63cedc61552a5af99d1f4fb67d367b25f"
  },
  "kernelspec": {
   "display_name": "Python 3.9.7 ('base')",
   "language": "python",
   "name": "python3"
  },
  "language_info": {
   "codemirror_mode": {
    "name": "ipython",
    "version": 3
   },
   "file_extension": ".py",
   "mimetype": "text/x-python",
   "name": "python",
   "nbconvert_exporter": "python",
   "pygments_lexer": "ipython3",
   "version": "3.9.7"
  },
  "orig_nbformat": 4
 },
 "nbformat": 4,
 "nbformat_minor": 2
}
